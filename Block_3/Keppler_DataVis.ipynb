{
 "cells": [
  {
   "cell_type": "markdown",
   "id": "36ee835a-90e6-469b-bb92-640f691b03a9",
   "metadata": {},
   "source": [
    "\n",
    "# Kepler.gl: Open-Source -Tool zur Geodatenanalyse\n",
    "<img src = \"IMG/KeplerLogo.jpg\" width = 300>"
   ]
  },
  {
   "cell_type": "code",
   "execution_count": 2,
   "id": "a6e3e1d5",
   "metadata": {},
   "outputs": [
    {
     "name": "stdout",
     "output_type": "stream",
     "text": [
      "Collecting keplergl\n",
      "  Downloading keplergl-0.3.2.tar.gz (9.7 MB)\n",
      "\u001b[K     |████████████████████████████████| 9.7 MB 4.3 MB/s eta 0:00:01\n",
      "\u001b[?25h  Installing build dependencies ... \u001b[?25ldone\n",
      "\u001b[?25h  Getting requirements to build wheel ... \u001b[?25ldone\n",
      "\u001b[?25h    Preparing wheel metadata ... \u001b[?25ldone\n",
      "\u001b[?25hRequirement already satisfied: ipywidgets<8,>=7.0.0 in /home/keuper/anaconda3/lib/python3.9/site-packages (from keplergl) (7.6.5)\n",
      "Requirement already satisfied: pandas>=0.23.0 in /home/keuper/anaconda3/lib/python3.9/site-packages (from keplergl) (1.4.2)\n",
      "Collecting Shapely>=1.6.4.post2\n",
      "  Downloading Shapely-1.8.5.post1-cp39-cp39-manylinux_2_12_x86_64.manylinux2010_x86_64.whl (2.1 MB)\n",
      "\u001b[K     |████████████████████████████████| 2.1 MB 8.2 MB/s eta 0:00:01\n",
      "\u001b[?25hCollecting traittypes>=0.2.1\n",
      "  Downloading traittypes-0.2.1-py2.py3-none-any.whl (8.6 kB)\n",
      "Collecting geopandas>=0.5.0\n",
      "  Downloading geopandas-0.12.1-py3-none-any.whl (1.1 MB)\n",
      "\u001b[K     |████████████████████████████████| 1.1 MB 13.4 MB/s eta 0:00:01\n",
      "\u001b[?25hRequirement already satisfied: packaging in /home/keuper/anaconda3/lib/python3.9/site-packages (from geopandas>=0.5.0->keplergl) (21.3)\n",
      "Collecting pyproj>=2.6.1.post1\n",
      "  Downloading pyproj-3.4.0-cp39-cp39-manylinux_2_17_x86_64.manylinux2014_x86_64.whl (7.7 MB)\n",
      "\u001b[K     |████████████████████████████████| 7.7 MB 11.8 MB/s eta 0:00:01\n",
      "\u001b[?25hCollecting fiona>=1.8\n",
      "  Downloading Fiona-1.8.22-cp39-cp39-manylinux_2_17_x86_64.manylinux2014_x86_64.whl (16.6 MB)\n",
      "\u001b[K     |████████████████████████████████| 16.6 MB 17.7 MB/s eta 0:00:01\n",
      "\u001b[?25hRequirement already satisfied: setuptools in /home/keuper/anaconda3/lib/python3.9/site-packages (from fiona>=1.8->geopandas>=0.5.0->keplergl) (61.2.0)\n",
      "Requirement already satisfied: six>=1.7 in /home/keuper/anaconda3/lib/python3.9/site-packages (from fiona>=1.8->geopandas>=0.5.0->keplergl) (1.16.0)\n",
      "Requirement already satisfied: click>=4.0 in /home/keuper/anaconda3/lib/python3.9/site-packages (from fiona>=1.8->geopandas>=0.5.0->keplergl) (8.0.4)\n",
      "Requirement already satisfied: attrs>=17 in /home/keuper/anaconda3/lib/python3.9/site-packages (from fiona>=1.8->geopandas>=0.5.0->keplergl) (21.4.0)\n",
      "Collecting click-plugins>=1.0\n",
      "  Downloading click_plugins-1.1.1-py2.py3-none-any.whl (7.5 kB)\n",
      "Collecting cligj>=0.5\n",
      "  Downloading cligj-0.7.2-py3-none-any.whl (7.1 kB)\n",
      "Collecting munch\n",
      "  Using cached munch-2.5.0-py2.py3-none-any.whl (10 kB)\n",
      "Requirement already satisfied: certifi in /home/keuper/anaconda3/lib/python3.9/site-packages (from fiona>=1.8->geopandas>=0.5.0->keplergl) (2021.10.8)\n",
      "Requirement already satisfied: traitlets>=4.3.1 in /home/keuper/anaconda3/lib/python3.9/site-packages (from ipywidgets<8,>=7.0.0->keplergl) (5.1.1)\n",
      "Requirement already satisfied: nbformat>=4.2.0 in /home/keuper/anaconda3/lib/python3.9/site-packages (from ipywidgets<8,>=7.0.0->keplergl) (5.3.0)\n",
      "Requirement already satisfied: ipython>=4.0.0 in /home/keuper/anaconda3/lib/python3.9/site-packages (from ipywidgets<8,>=7.0.0->keplergl) (8.2.0)\n",
      "Requirement already satisfied: ipython-genutils~=0.2.0 in /home/keuper/anaconda3/lib/python3.9/site-packages (from ipywidgets<8,>=7.0.0->keplergl) (0.2.0)\n",
      "Requirement already satisfied: ipykernel>=4.5.1 in /home/keuper/anaconda3/lib/python3.9/site-packages (from ipywidgets<8,>=7.0.0->keplergl) (6.9.1)\n",
      "Requirement already satisfied: widgetsnbextension~=3.5.0 in /home/keuper/anaconda3/lib/python3.9/site-packages (from ipywidgets<8,>=7.0.0->keplergl) (3.5.2)\n",
      "Requirement already satisfied: jupyterlab-widgets>=1.0.0 in /home/keuper/anaconda3/lib/python3.9/site-packages (from ipywidgets<8,>=7.0.0->keplergl) (1.0.0)\n",
      "Requirement already satisfied: tornado<7.0,>=4.2 in /home/keuper/anaconda3/lib/python3.9/site-packages (from ipykernel>=4.5.1->ipywidgets<8,>=7.0.0->keplergl) (6.1)\n",
      "Requirement already satisfied: matplotlib-inline<0.2.0,>=0.1.0 in /home/keuper/anaconda3/lib/python3.9/site-packages (from ipykernel>=4.5.1->ipywidgets<8,>=7.0.0->keplergl) (0.1.2)\n",
      "Requirement already satisfied: nest-asyncio in /home/keuper/anaconda3/lib/python3.9/site-packages (from ipykernel>=4.5.1->ipywidgets<8,>=7.0.0->keplergl) (1.5.5)\n",
      "Requirement already satisfied: debugpy<2.0,>=1.0.0 in /home/keuper/anaconda3/lib/python3.9/site-packages (from ipykernel>=4.5.1->ipywidgets<8,>=7.0.0->keplergl) (1.5.1)\n",
      "Requirement already satisfied: jupyter-client<8.0 in /home/keuper/anaconda3/lib/python3.9/site-packages (from ipykernel>=4.5.1->ipywidgets<8,>=7.0.0->keplergl) (6.1.12)\n",
      "Requirement already satisfied: stack-data in /home/keuper/anaconda3/lib/python3.9/site-packages (from ipython>=4.0.0->ipywidgets<8,>=7.0.0->keplergl) (0.2.0)\n",
      "Requirement already satisfied: pygments>=2.4.0 in /home/keuper/anaconda3/lib/python3.9/site-packages (from ipython>=4.0.0->ipywidgets<8,>=7.0.0->keplergl) (2.11.2)\n",
      "Requirement already satisfied: backcall in /home/keuper/anaconda3/lib/python3.9/site-packages (from ipython>=4.0.0->ipywidgets<8,>=7.0.0->keplergl) (0.2.0)\n",
      "Requirement already satisfied: pickleshare in /home/keuper/anaconda3/lib/python3.9/site-packages (from ipython>=4.0.0->ipywidgets<8,>=7.0.0->keplergl) (0.7.5)\n",
      "Requirement already satisfied: pexpect>4.3 in /home/keuper/anaconda3/lib/python3.9/site-packages (from ipython>=4.0.0->ipywidgets<8,>=7.0.0->keplergl) (4.8.0)\n",
      "Requirement already satisfied: decorator in /home/keuper/anaconda3/lib/python3.9/site-packages (from ipython>=4.0.0->ipywidgets<8,>=7.0.0->keplergl) (5.1.1)\n",
      "Requirement already satisfied: prompt-toolkit!=3.0.0,!=3.0.1,<3.1.0,>=2.0.0 in /home/keuper/anaconda3/lib/python3.9/site-packages (from ipython>=4.0.0->ipywidgets<8,>=7.0.0->keplergl) (3.0.20)\n",
      "Requirement already satisfied: jedi>=0.16 in /home/keuper/anaconda3/lib/python3.9/site-packages (from ipython>=4.0.0->ipywidgets<8,>=7.0.0->keplergl) (0.18.1)\n",
      "Requirement already satisfied: parso<0.9.0,>=0.8.0 in /home/keuper/anaconda3/lib/python3.9/site-packages (from jedi>=0.16->ipython>=4.0.0->ipywidgets<8,>=7.0.0->keplergl) (0.8.3)\n",
      "Requirement already satisfied: python-dateutil>=2.1 in /home/keuper/anaconda3/lib/python3.9/site-packages (from jupyter-client<8.0->ipykernel>=4.5.1->ipywidgets<8,>=7.0.0->keplergl) (2.8.2)\n",
      "Requirement already satisfied: pyzmq>=13 in /home/keuper/anaconda3/lib/python3.9/site-packages (from jupyter-client<8.0->ipykernel>=4.5.1->ipywidgets<8,>=7.0.0->keplergl) (22.3.0)\n",
      "Requirement already satisfied: jupyter-core>=4.6.0 in /home/keuper/anaconda3/lib/python3.9/site-packages (from jupyter-client<8.0->ipykernel>=4.5.1->ipywidgets<8,>=7.0.0->keplergl) (4.9.2)\n",
      "Requirement already satisfied: fastjsonschema in /home/keuper/anaconda3/lib/python3.9/site-packages (from nbformat>=4.2.0->ipywidgets<8,>=7.0.0->keplergl) (2.15.1)\n",
      "Requirement already satisfied: jsonschema>=2.6 in /home/keuper/anaconda3/lib/python3.9/site-packages (from nbformat>=4.2.0->ipywidgets<8,>=7.0.0->keplergl) (4.4.0)\n",
      "Requirement already satisfied: pyrsistent!=0.17.0,!=0.17.1,!=0.17.2,>=0.14.0 in /home/keuper/anaconda3/lib/python3.9/site-packages (from jsonschema>=2.6->nbformat>=4.2.0->ipywidgets<8,>=7.0.0->keplergl) (0.18.0)\n",
      "Requirement already satisfied: pytz>=2020.1 in /home/keuper/anaconda3/lib/python3.9/site-packages (from pandas>=0.23.0->keplergl) (2021.3)\n",
      "Requirement already satisfied: numpy>=1.18.5 in /home/keuper/anaconda3/lib/python3.9/site-packages (from pandas>=0.23.0->keplergl) (1.21.5)\n",
      "Requirement already satisfied: ptyprocess>=0.5 in /home/keuper/anaconda3/lib/python3.9/site-packages (from pexpect>4.3->ipython>=4.0.0->ipywidgets<8,>=7.0.0->keplergl) (0.7.0)\n",
      "Requirement already satisfied: wcwidth in /home/keuper/anaconda3/lib/python3.9/site-packages (from prompt-toolkit!=3.0.0,!=3.0.1,<3.1.0,>=2.0.0->ipython>=4.0.0->ipywidgets<8,>=7.0.0->keplergl) (0.2.5)\n",
      "Requirement already satisfied: notebook>=4.4.1 in /home/keuper/anaconda3/lib/python3.9/site-packages (from widgetsnbextension~=3.5.0->ipywidgets<8,>=7.0.0->keplergl) (6.4.8)\n",
      "Requirement already satisfied: prometheus-client in /home/keuper/anaconda3/lib/python3.9/site-packages (from notebook>=4.4.1->widgetsnbextension~=3.5.0->ipywidgets<8,>=7.0.0->keplergl) (0.13.1)\n",
      "Requirement already satisfied: Send2Trash>=1.8.0 in /home/keuper/anaconda3/lib/python3.9/site-packages (from notebook>=4.4.1->widgetsnbextension~=3.5.0->ipywidgets<8,>=7.0.0->keplergl) (1.8.0)\n",
      "Requirement already satisfied: argon2-cffi in /home/keuper/anaconda3/lib/python3.9/site-packages (from notebook>=4.4.1->widgetsnbextension~=3.5.0->ipywidgets<8,>=7.0.0->keplergl) (21.3.0)\n",
      "Requirement already satisfied: nbconvert in /home/keuper/anaconda3/lib/python3.9/site-packages (from notebook>=4.4.1->widgetsnbextension~=3.5.0->ipywidgets<8,>=7.0.0->keplergl) (6.4.4)\n",
      "Requirement already satisfied: terminado>=0.8.3 in /home/keuper/anaconda3/lib/python3.9/site-packages (from notebook>=4.4.1->widgetsnbextension~=3.5.0->ipywidgets<8,>=7.0.0->keplergl) (0.13.1)\n",
      "Requirement already satisfied: jinja2 in /home/keuper/anaconda3/lib/python3.9/site-packages (from notebook>=4.4.1->widgetsnbextension~=3.5.0->ipywidgets<8,>=7.0.0->keplergl) (2.11.3)\n"
     ]
    },
    {
     "name": "stdout",
     "output_type": "stream",
     "text": [
      "Requirement already satisfied: argon2-cffi-bindings in /home/keuper/anaconda3/lib/python3.9/site-packages (from argon2-cffi->notebook>=4.4.1->widgetsnbextension~=3.5.0->ipywidgets<8,>=7.0.0->keplergl) (21.2.0)\n",
      "Requirement already satisfied: cffi>=1.0.1 in /home/keuper/anaconda3/lib/python3.9/site-packages (from argon2-cffi-bindings->argon2-cffi->notebook>=4.4.1->widgetsnbextension~=3.5.0->ipywidgets<8,>=7.0.0->keplergl) (1.15.0)\n",
      "Requirement already satisfied: pycparser in /home/keuper/anaconda3/lib/python3.9/site-packages (from cffi>=1.0.1->argon2-cffi-bindings->argon2-cffi->notebook>=4.4.1->widgetsnbextension~=3.5.0->ipywidgets<8,>=7.0.0->keplergl) (2.21)\n",
      "Requirement already satisfied: MarkupSafe>=0.23 in /home/keuper/anaconda3/lib/python3.9/site-packages (from jinja2->notebook>=4.4.1->widgetsnbextension~=3.5.0->ipywidgets<8,>=7.0.0->keplergl) (2.0.1)\n",
      "Requirement already satisfied: nbclient<0.6.0,>=0.5.0 in /home/keuper/anaconda3/lib/python3.9/site-packages (from nbconvert->notebook>=4.4.1->widgetsnbextension~=3.5.0->ipywidgets<8,>=7.0.0->keplergl) (0.5.13)\n",
      "Requirement already satisfied: defusedxml in /home/keuper/anaconda3/lib/python3.9/site-packages (from nbconvert->notebook>=4.4.1->widgetsnbextension~=3.5.0->ipywidgets<8,>=7.0.0->keplergl) (0.7.1)\n",
      "Requirement already satisfied: pandocfilters>=1.4.1 in /home/keuper/anaconda3/lib/python3.9/site-packages (from nbconvert->notebook>=4.4.1->widgetsnbextension~=3.5.0->ipywidgets<8,>=7.0.0->keplergl) (1.5.0)\n",
      "Requirement already satisfied: beautifulsoup4 in /home/keuper/anaconda3/lib/python3.9/site-packages (from nbconvert->notebook>=4.4.1->widgetsnbextension~=3.5.0->ipywidgets<8,>=7.0.0->keplergl) (4.11.1)\n",
      "Requirement already satisfied: mistune<2,>=0.8.1 in /home/keuper/anaconda3/lib/python3.9/site-packages (from nbconvert->notebook>=4.4.1->widgetsnbextension~=3.5.0->ipywidgets<8,>=7.0.0->keplergl) (0.8.4)\n",
      "Requirement already satisfied: bleach in /home/keuper/anaconda3/lib/python3.9/site-packages (from nbconvert->notebook>=4.4.1->widgetsnbextension~=3.5.0->ipywidgets<8,>=7.0.0->keplergl) (4.1.0)\n",
      "Requirement already satisfied: jupyterlab-pygments in /home/keuper/anaconda3/lib/python3.9/site-packages (from nbconvert->notebook>=4.4.1->widgetsnbextension~=3.5.0->ipywidgets<8,>=7.0.0->keplergl) (0.1.2)\n",
      "Requirement already satisfied: entrypoints>=0.2.2 in /home/keuper/anaconda3/lib/python3.9/site-packages (from nbconvert->notebook>=4.4.1->widgetsnbextension~=3.5.0->ipywidgets<8,>=7.0.0->keplergl) (0.4)\n",
      "Requirement already satisfied: testpath in /home/keuper/anaconda3/lib/python3.9/site-packages (from nbconvert->notebook>=4.4.1->widgetsnbextension~=3.5.0->ipywidgets<8,>=7.0.0->keplergl) (0.5.0)\n",
      "Requirement already satisfied: soupsieve>1.2 in /home/keuper/anaconda3/lib/python3.9/site-packages (from beautifulsoup4->nbconvert->notebook>=4.4.1->widgetsnbextension~=3.5.0->ipywidgets<8,>=7.0.0->keplergl) (2.3.1)\n",
      "Requirement already satisfied: webencodings in /home/keuper/anaconda3/lib/python3.9/site-packages (from bleach->nbconvert->notebook>=4.4.1->widgetsnbextension~=3.5.0->ipywidgets<8,>=7.0.0->keplergl) (0.5.1)\n",
      "Requirement already satisfied: pyparsing!=3.0.5,>=2.0.2 in /home/keuper/anaconda3/lib/python3.9/site-packages (from packaging->geopandas>=0.5.0->keplergl) (3.0.4)\n",
      "Requirement already satisfied: asttokens in /home/keuper/anaconda3/lib/python3.9/site-packages (from stack-data->ipython>=4.0.0->ipywidgets<8,>=7.0.0->keplergl) (2.0.5)\n",
      "Requirement already satisfied: pure-eval in /home/keuper/anaconda3/lib/python3.9/site-packages (from stack-data->ipython>=4.0.0->ipywidgets<8,>=7.0.0->keplergl) (0.2.2)\n",
      "Requirement already satisfied: executing in /home/keuper/anaconda3/lib/python3.9/site-packages (from stack-data->ipython>=4.0.0->ipywidgets<8,>=7.0.0->keplergl) (0.8.3)\n",
      "Building wheels for collected packages: keplergl\n",
      "  Building wheel for keplergl (PEP 517) ... \u001b[?25ldone\n",
      "\u001b[?25h  Created wheel for keplergl: filename=keplergl-0.3.2-py2.py3-none-any.whl size=17922322 sha256=d8f4296db40099faf5ecb0501739b0bcc0bece26a05a7f22bb0e7eed044cc596\n",
      "  Stored in directory: /home/keuper/.cache/pip/wheels/15/7f/48/aa4980536f7c9fbc783b2a191a579e73e7f74c41afc3f33c61\n",
      "Successfully built keplergl\n",
      "Installing collected packages: munch, cligj, click-plugins, Shapely, pyproj, fiona, traittypes, geopandas, keplergl\n",
      "Successfully installed Shapely-1.8.5.post1 click-plugins-1.1.1 cligj-0.7.2 fiona-1.8.22 geopandas-0.12.1 keplergl-0.3.2 munch-2.5.0 pyproj-3.4.0 traittypes-0.2.1\n"
     ]
    }
   ],
   "source": [
    "!pip install keplergl"
   ]
  },
  {
   "cell_type": "code",
   "execution_count": 3,
   "id": "464c4c21-a4f2-4a57-8313-4178265fa63c",
   "metadata": {},
   "outputs": [],
   "source": [
    "from keplergl import KeplerGl\n",
    "import pandas as pd\n",
    "import numpy as np"
   ]
  },
  {
   "cell_type": "code",
   "execution_count": 4,
   "id": "1766e30a",
   "metadata": {},
   "outputs": [
    {
     "name": "stdout",
     "output_type": "stream",
     "text": [
      "Cloning into 'DATA'...\n",
      "remote: Enumerating objects: 101, done.\u001b[K\n",
      "remote: Counting objects: 100% (14/14), done.\u001b[K\n",
      "remote: Compressing objects: 100% (12/12), done.\u001b[K\n",
      "remote: Total 101 (delta 2), reused 14 (delta 2), pack-reused 87\u001b[K\n",
      "Receiving objects: 100% (101/101), 146.44 MiB | 10.02 MiB/s, done.\n",
      "Resolving deltas: 100% (23/23), done.\n",
      "Checking out files: 100% (69/69), done.\n"
     ]
    }
   ],
   "source": [
    "#in colab, we need to clone the data from the repo\n",
    "!git clone https://github.com/keuperj/DATA.git\n",
    "path='DATA'"
   ]
  },
  {
   "cell_type": "code",
   "execution_count": 5,
   "id": "0aa666d0-ce28-43b3-abb5-a1ff88c19d72",
   "metadata": {},
   "outputs": [],
   "source": [
    "\n",
    "df=pd.read_csv(\"DATA/NY_taxi_train_small.csv\")"
   ]
  },
  {
   "cell_type": "code",
   "execution_count": 6,
   "id": "2b7b1987-a716-4130-acbc-43036dda31d9",
   "metadata": {},
   "outputs": [],
   "source": [
    "df = df[::100]"
   ]
  },
  {
   "cell_type": "code",
   "execution_count": 7,
   "id": "afc23814-2bad-4766-b1ce-8459f79c26c4",
   "metadata": {},
   "outputs": [
    {
     "data": {
      "text/html": [
       "<div>\n",
       "<style scoped>\n",
       "    .dataframe tbody tr th:only-of-type {\n",
       "        vertical-align: middle;\n",
       "    }\n",
       "\n",
       "    .dataframe tbody tr th {\n",
       "        vertical-align: top;\n",
       "    }\n",
       "\n",
       "    .dataframe thead th {\n",
       "        text-align: right;\n",
       "    }\n",
       "</style>\n",
       "<table border=\"1\" class=\"dataframe\">\n",
       "  <thead>\n",
       "    <tr style=\"text-align: right;\">\n",
       "      <th></th>\n",
       "      <th>key</th>\n",
       "      <th>fare_amount</th>\n",
       "      <th>pickup_datetime</th>\n",
       "      <th>pickup_longitude</th>\n",
       "      <th>pickup_latitude</th>\n",
       "      <th>dropoff_longitude</th>\n",
       "      <th>dropoff_latitude</th>\n",
       "      <th>passenger_count</th>\n",
       "    </tr>\n",
       "  </thead>\n",
       "  <tbody>\n",
       "    <tr>\n",
       "      <th>0</th>\n",
       "      <td>2014-03-12 17:04:30.0000001</td>\n",
       "      <td>11.0</td>\n",
       "      <td>2014-03-12 17:04:30 UTC</td>\n",
       "      <td>-73.956721</td>\n",
       "      <td>40.767081</td>\n",
       "      <td>-73.989080</td>\n",
       "      <td>40.772745</td>\n",
       "      <td>1</td>\n",
       "    </tr>\n",
       "    <tr>\n",
       "      <th>100</th>\n",
       "      <td>2014-07-13 13:54:00.0000002</td>\n",
       "      <td>13.0</td>\n",
       "      <td>2014-07-13 13:54:00 UTC</td>\n",
       "      <td>-73.990465</td>\n",
       "      <td>40.741982</td>\n",
       "      <td>-73.990200</td>\n",
       "      <td>40.766897</td>\n",
       "      <td>1</td>\n",
       "    </tr>\n",
       "    <tr>\n",
       "      <th>200</th>\n",
       "      <td>2014-05-06 23:52:00.00000090</td>\n",
       "      <td>4.0</td>\n",
       "      <td>2014-05-06 23:52:00 UTC</td>\n",
       "      <td>-73.967737</td>\n",
       "      <td>40.755907</td>\n",
       "      <td>-73.975370</td>\n",
       "      <td>40.753902</td>\n",
       "      <td>5</td>\n",
       "    </tr>\n",
       "    <tr>\n",
       "      <th>300</th>\n",
       "      <td>2015-06-26 20:21:20.0000008</td>\n",
       "      <td>11.5</td>\n",
       "      <td>2015-06-26 20:21:20 UTC</td>\n",
       "      <td>-73.952278</td>\n",
       "      <td>40.777176</td>\n",
       "      <td>-73.980675</td>\n",
       "      <td>40.741020</td>\n",
       "      <td>1</td>\n",
       "    </tr>\n",
       "    <tr>\n",
       "      <th>400</th>\n",
       "      <td>2014-02-18 07:41:00.00000016</td>\n",
       "      <td>6.0</td>\n",
       "      <td>2014-02-18 07:41:00 UTC</td>\n",
       "      <td>-73.975377</td>\n",
       "      <td>40.748867</td>\n",
       "      <td>-73.978210</td>\n",
       "      <td>40.752347</td>\n",
       "      <td>1</td>\n",
       "    </tr>\n",
       "    <tr>\n",
       "      <th>...</th>\n",
       "      <td>...</td>\n",
       "      <td>...</td>\n",
       "      <td>...</td>\n",
       "      <td>...</td>\n",
       "      <td>...</td>\n",
       "      <td>...</td>\n",
       "      <td>...</td>\n",
       "      <td>...</td>\n",
       "    </tr>\n",
       "    <tr>\n",
       "      <th>999500</th>\n",
       "      <td>2010-07-15 18:11:36.0000002</td>\n",
       "      <td>7.3</td>\n",
       "      <td>2010-07-15 18:11:36 UTC</td>\n",
       "      <td>-73.968071</td>\n",
       "      <td>40.765235</td>\n",
       "      <td>-73.955177</td>\n",
       "      <td>40.786765</td>\n",
       "      <td>2</td>\n",
       "    </tr>\n",
       "    <tr>\n",
       "      <th>999600</th>\n",
       "      <td>2011-03-17 20:12:39.0000001</td>\n",
       "      <td>6.9</td>\n",
       "      <td>2011-03-17 20:12:39 UTC</td>\n",
       "      <td>-73.974249</td>\n",
       "      <td>40.752364</td>\n",
       "      <td>-73.983422</td>\n",
       "      <td>40.737301</td>\n",
       "      <td>1</td>\n",
       "    </tr>\n",
       "    <tr>\n",
       "      <th>999700</th>\n",
       "      <td>2013-04-09 08:58:45.0000009</td>\n",
       "      <td>22.0</td>\n",
       "      <td>2013-04-09 08:58:45 UTC</td>\n",
       "      <td>-73.970482</td>\n",
       "      <td>40.798977</td>\n",
       "      <td>-73.990978</td>\n",
       "      <td>40.755272</td>\n",
       "      <td>1</td>\n",
       "    </tr>\n",
       "    <tr>\n",
       "      <th>999800</th>\n",
       "      <td>2014-07-08 07:31:00.00000077</td>\n",
       "      <td>17.5</td>\n",
       "      <td>2014-07-08 07:31:00 UTC</td>\n",
       "      <td>-73.952260</td>\n",
       "      <td>40.818840</td>\n",
       "      <td>-73.951340</td>\n",
       "      <td>40.820000</td>\n",
       "      <td>1</td>\n",
       "    </tr>\n",
       "    <tr>\n",
       "      <th>999900</th>\n",
       "      <td>2012-02-23 10:24:34.0000003</td>\n",
       "      <td>8.5</td>\n",
       "      <td>2012-02-23 10:24:34 UTC</td>\n",
       "      <td>-73.983366</td>\n",
       "      <td>40.738255</td>\n",
       "      <td>-73.972497</td>\n",
       "      <td>40.753348</td>\n",
       "      <td>1</td>\n",
       "    </tr>\n",
       "  </tbody>\n",
       "</table>\n",
       "<p>10000 rows × 8 columns</p>\n",
       "</div>"
      ],
      "text/plain": [
       "                                 key  fare_amount          pickup_datetime  \\\n",
       "0        2014-03-12 17:04:30.0000001         11.0  2014-03-12 17:04:30 UTC   \n",
       "100      2014-07-13 13:54:00.0000002         13.0  2014-07-13 13:54:00 UTC   \n",
       "200     2014-05-06 23:52:00.00000090          4.0  2014-05-06 23:52:00 UTC   \n",
       "300      2015-06-26 20:21:20.0000008         11.5  2015-06-26 20:21:20 UTC   \n",
       "400     2014-02-18 07:41:00.00000016          6.0  2014-02-18 07:41:00 UTC   \n",
       "...                              ...          ...                      ...   \n",
       "999500   2010-07-15 18:11:36.0000002          7.3  2010-07-15 18:11:36 UTC   \n",
       "999600   2011-03-17 20:12:39.0000001          6.9  2011-03-17 20:12:39 UTC   \n",
       "999700   2013-04-09 08:58:45.0000009         22.0  2013-04-09 08:58:45 UTC   \n",
       "999800  2014-07-08 07:31:00.00000077         17.5  2014-07-08 07:31:00 UTC   \n",
       "999900   2012-02-23 10:24:34.0000003          8.5  2012-02-23 10:24:34 UTC   \n",
       "\n",
       "        pickup_longitude  pickup_latitude  dropoff_longitude  \\\n",
       "0             -73.956721        40.767081         -73.989080   \n",
       "100           -73.990465        40.741982         -73.990200   \n",
       "200           -73.967737        40.755907         -73.975370   \n",
       "300           -73.952278        40.777176         -73.980675   \n",
       "400           -73.975377        40.748867         -73.978210   \n",
       "...                  ...              ...                ...   \n",
       "999500        -73.968071        40.765235         -73.955177   \n",
       "999600        -73.974249        40.752364         -73.983422   \n",
       "999700        -73.970482        40.798977         -73.990978   \n",
       "999800        -73.952260        40.818840         -73.951340   \n",
       "999900        -73.983366        40.738255         -73.972497   \n",
       "\n",
       "        dropoff_latitude  passenger_count  \n",
       "0              40.772745                1  \n",
       "100            40.766897                1  \n",
       "200            40.753902                5  \n",
       "300            40.741020                1  \n",
       "400            40.752347                1  \n",
       "...                  ...              ...  \n",
       "999500         40.786765                2  \n",
       "999600         40.737301                1  \n",
       "999700         40.755272                1  \n",
       "999800         40.820000                1  \n",
       "999900         40.753348                1  \n",
       "\n",
       "[10000 rows x 8 columns]"
      ]
     },
     "execution_count": 7,
     "metadata": {},
     "output_type": "execute_result"
    }
   ],
   "source": [
    "df"
   ]
  },
  {
   "cell_type": "markdown",
   "id": "f124e990-a88f-47eb-b95c-054ec8b5718b",
   "metadata": {},
   "source": [
    "---------------------------------"
   ]
  },
  {
   "cell_type": "markdown",
   "id": "36b1787d-f1f2-4c86-9122-a3a7f55735a8",
   "metadata": {
    "tags": []
   },
   "source": [
    "## 1. Erstellen einer Karte"
   ]
  },
  {
   "cell_type": "markdown",
   "id": "8cabca0c-9996-4035-a278-e9207bd52032",
   "metadata": {
    "jp-MarkdownHeadingCollapsed": true,
    "tags": []
   },
   "source": [
    "**- KeplerGl()**<br>\n",
    "**- Eingabe Parameter:**<br> \n",
    "- height (int): Höhe der Kartenanzeige (default = 400) -> Je größer height desto größer ist das Display<br>\n",
    "- data (dict): Die Datensätze<br>\n",
    "- config (dict): Kartenkonfiguration -> Layer und Filtereinstellungen<br>\n",
    "- show_docs (bool): Standartmäßig wird das Benutzerhandbuch ausgegeben -> False = Keine Ausgabe<br>\n",
    "**- Alle Parameter sind Optional**<br>\n",
    "**- Startpunkt ist immer San Francisco**"
   ]
  },
  {
   "cell_type": "code",
   "execution_count": 17,
   "id": "6ad3334b-8e1f-4f27-b191-11233a0f0b58",
   "metadata": {},
   "outputs": [
    {
     "name": "stdout",
     "output_type": "stream",
     "text": [
      "User Guide: https://docs.kepler.gl/docs/keplergl-jupyter\n"
     ]
    },
    {
     "data": {
      "application/vnd.jupyter.widget-view+json": {
       "model_id": "02a002e877144eb7a579b97cd858c8b5",
       "version_major": 2,
       "version_minor": 0
      },
      "text/plain": [
       "KeplerGl()"
      ]
     },
     "metadata": {},
     "output_type": "display_data"
    }
   ],
   "source": [
    "map_1 = KeplerGl() \n",
    "map_1"
   ]
  },
  {
   "cell_type": "markdown",
   "id": "5bd2c1a9-bae3-4d2a-b79c-a41503d93478",
   "metadata": {},
   "source": [
    "--------------"
   ]
  },
  {
   "cell_type": "markdown",
   "id": "fa2391d2-e384-45eb-9c32-39c890b77970",
   "metadata": {},
   "source": [
    "## 2. Hinzufügen der Daten"
   ]
  },
  {
   "cell_type": "markdown",
   "id": "7f6a5f48-8ab0-4812-bc84-8b97b29cf999",
   "metadata": {},
   "source": [
    "**- Unterstütztes Datenformat**<br>\n",
    "- CSV<br>\n",
    "- Pandas DataFrame<br>\n",
    "- GeoPandas GeoDataFrame<br>\n",
    "- GeoJSON Daten<br>\n"
   ]
  },
  {
   "cell_type": "markdown",
   "id": "2a215c3a-6a21-41f7-b3cf-489baf08f811",
   "metadata": {},
   "source": [
    "**- 2 Methoden um Daten hinzuzufügen**<br>\n",
    "- add_data()"
   ]
  },
  {
   "cell_type": "code",
   "execution_count": 9,
   "id": "277a79c0-8903-46de-a26f-5a65fabd347d",
   "metadata": {},
   "outputs": [],
   "source": [
    "map_1.add_data(data= df, name=\"Taxi\")"
   ]
  },
  {
   "cell_type": "markdown",
   "id": "ca09e720-bd56-4965-a01f-29ce430deb80",
   "metadata": {},
   "source": [
    "- Während dem Erstellen der Karte"
   ]
  },
  {
   "cell_type": "code",
   "execution_count": 10,
   "id": "a795aff5-86e8-4e2d-b26c-75098762ffbf",
   "metadata": {},
   "outputs": [
    {
     "name": "stdout",
     "output_type": "stream",
     "text": [
      "User Guide: https://docs.kepler.gl/docs/keplergl-jupyter\n"
     ]
    },
    {
     "data": {
      "application/vnd.jupyter.widget-view+json": {
       "model_id": "565da025aa074a9588b632a99c5c2c94",
       "version_major": 2,
       "version_minor": 0
      },
      "text/plain": [
       "KeplerGl(data={'Taxi':                                  key  fare_amount          pickup_datetime  \\\n",
       "0        …"
      ]
     },
     "metadata": {},
     "output_type": "display_data"
    }
   ],
   "source": [
    "map_2 = KeplerGl(data = {\"Taxi\":df})\n",
    "map_2"
   ]
  },
  {
   "cell_type": "markdown",
   "id": "76d7b52f-558f-4466-aa3c-429feda2ab0e",
   "metadata": {},
   "source": [
    "<br>**- Mehrere Daten können gleichzeitig hinzugefügt werden**<br>\n",
    "- Mehrfaches .add_data( data = , name =)\n",
    "- dict { \"df1\": data1, \"df2\": data2 , \"df3\": data3... }"
   ]
  },
  {
   "cell_type": "markdown",
   "id": "1535f0ae-0176-4ede-8aaf-575fc96e13ad",
   "metadata": {},
   "source": [
    "**- Ausgabe der hinzugefügten Daten**<br>\n",
    "- Bugt, wenn man die Daten mit add_data( ) hinzugefügt hat"
   ]
  },
  {
   "cell_type": "code",
   "execution_count": 11,
   "id": "3b28f04f-a14b-437b-892b-acf7411761ec",
   "metadata": {},
   "outputs": [
    {
     "data": {
      "text/plain": [
       "{'Taxi':                                  key  fare_amount          pickup_datetime  \\\n",
       " 0        2014-03-12 17:04:30.0000001         11.0  2014-03-12 17:04:30 UTC   \n",
       " 100      2014-07-13 13:54:00.0000002         13.0  2014-07-13 13:54:00 UTC   \n",
       " 200     2014-05-06 23:52:00.00000090          4.0  2014-05-06 23:52:00 UTC   \n",
       " 300      2015-06-26 20:21:20.0000008         11.5  2015-06-26 20:21:20 UTC   \n",
       " 400     2014-02-18 07:41:00.00000016          6.0  2014-02-18 07:41:00 UTC   \n",
       " ...                              ...          ...                      ...   \n",
       " 999500   2010-07-15 18:11:36.0000002          7.3  2010-07-15 18:11:36 UTC   \n",
       " 999600   2011-03-17 20:12:39.0000001          6.9  2011-03-17 20:12:39 UTC   \n",
       " 999700   2013-04-09 08:58:45.0000009         22.0  2013-04-09 08:58:45 UTC   \n",
       " 999800  2014-07-08 07:31:00.00000077         17.5  2014-07-08 07:31:00 UTC   \n",
       " 999900   2012-02-23 10:24:34.0000003          8.5  2012-02-23 10:24:34 UTC   \n",
       " \n",
       "         pickup_longitude  pickup_latitude  dropoff_longitude  \\\n",
       " 0             -73.956721        40.767081         -73.989080   \n",
       " 100           -73.990465        40.741982         -73.990200   \n",
       " 200           -73.967737        40.755907         -73.975370   \n",
       " 300           -73.952278        40.777176         -73.980675   \n",
       " 400           -73.975377        40.748867         -73.978210   \n",
       " ...                  ...              ...                ...   \n",
       " 999500        -73.968071        40.765235         -73.955177   \n",
       " 999600        -73.974249        40.752364         -73.983422   \n",
       " 999700        -73.970482        40.798977         -73.990978   \n",
       " 999800        -73.952260        40.818840         -73.951340   \n",
       " 999900        -73.983366        40.738255         -73.972497   \n",
       " \n",
       "         dropoff_latitude  passenger_count  \n",
       " 0              40.772745                1  \n",
       " 100            40.766897                1  \n",
       " 200            40.753902                5  \n",
       " 300            40.741020                1  \n",
       " 400            40.752347                1  \n",
       " ...                  ...              ...  \n",
       " 999500         40.786765                2  \n",
       " 999600         40.737301                1  \n",
       " 999700         40.755272                1  \n",
       " 999800         40.820000                1  \n",
       " 999900         40.753348                1  \n",
       " \n",
       " [10000 rows x 8 columns]}"
      ]
     },
     "execution_count": 11,
     "metadata": {},
     "output_type": "execute_result"
    }
   ],
   "source": [
    "map_2.data"
   ]
  },
  {
   "cell_type": "markdown",
   "id": "be31fbcb-300b-4e3e-9121-2081275bb656",
   "metadata": {},
   "source": [
    "----------------------"
   ]
  },
  {
   "cell_type": "markdown",
   "id": "db853701-17f7-426b-81da-28b6bce839e8",
   "metadata": {
    "tags": []
   },
   "source": [
    "## 3. Anpassung der Karte"
   ]
  },
  {
   "cell_type": "code",
   "execution_count": 12,
   "id": "e732d5b9-2c93-4844-9370-cf64bf36e7a6",
   "metadata": {},
   "outputs": [
    {
     "data": {
      "application/vnd.jupyter.widget-view+json": {
       "model_id": "a2459c688b47455a891d29135f085b4f",
       "version_major": 2,
       "version_minor": 0
      },
      "text/plain": [
       "KeplerGl(data={'Taxi': {'index': [0, 100, 200, 300, 400, 500, 600, 700, 800, 900, 1000, 1100, 1200, 1300, 1400…"
      ]
     },
     "metadata": {},
     "output_type": "display_data"
    }
   ],
   "source": [
    "map_3 = KeplerGl(height = 600, show_docs = False)\n",
    "map_3.add_data(data = df, name = \"Taxi\")\n",
    "map_3"
   ]
  },
  {
   "cell_type": "markdown",
   "id": "aa3133da-d0c4-4127-a0b2-c9faf8a6738c",
   "metadata": {},
   "source": [
    "----------------------------"
   ]
  },
  {
   "cell_type": "markdown",
   "id": "3cd8adf9-cf70-4921-83e7-7355b0847ff0",
   "metadata": {},
   "source": [
    "## 4. Hinzufügen der Konfiguration"
   ]
  },
  {
   "cell_type": "markdown",
   "id": "f8196040-8cb8-40af-b2c6-deb853054caa",
   "metadata": {},
   "source": [
    "**Wenn die Karte fertig ist, können Sie diese Konfiguration kopieren und später laden, um dieselbe Karte zu reproduzieren:**<br>**-Ausgabe der Kartenkonfiguration**"
   ]
  },
  {
   "cell_type": "code",
   "execution_count": 13,
   "id": "1572a68e-76cd-46e2-b9e8-5f43e38d4be0",
   "metadata": {},
   "outputs": [],
   "source": [
    "config = map_3.config\n",
    "#config"
   ]
  },
  {
   "cell_type": "markdown",
   "id": "11720a78-7fc4-43ef-a2b0-142b1dc5a976",
   "metadata": {},
   "source": [
    "**- 2 Methoden um eine Konfiguration hinzuzufügen**<br>\n",
    "- .config = config<br>"
   ]
  },
  {
   "cell_type": "code",
   "execution_count": 14,
   "id": "86fd2e19-6374-4b2e-8805-cf7d42d21e01",
   "metadata": {},
   "outputs": [],
   "source": [
    "map_4 = KeplerGl(data = {\"Taxi\": df}, show_docs = False)\n",
    "\n",
    "map_4.config = config # Alternative: statt config-> map_3.config"
   ]
  },
  {
   "cell_type": "markdown",
   "id": "9575acc3-5a9a-4336-ae7c-d0f829ae962b",
   "metadata": {},
   "source": [
    "- Während dem Erstellen der Karte"
   ]
  },
  {
   "cell_type": "code",
   "execution_count": 15,
   "id": "f6d77bef-db43-4b27-bc7d-67dee95674d6",
   "metadata": {},
   "outputs": [],
   "source": [
    "map_5 = KeplerGl(data = {\"Taxi\": df}, config = config , show_docs = False)"
   ]
  },
  {
   "cell_type": "markdown",
   "id": "94fc448a-6f13-47d6-b925-7f45d7953b95",
   "metadata": {},
   "source": [
    "<br>**Wenn Sie die Karte das nächste Mal mit dieser gespeicherten Konfiguration laden möchten, ist es am einfachsten, sie in einer Datei zu speichern und den Befehl %run zu verwenden, um sie zu laden, ohne Ihr Notebook zu überladen.**"
   ]
  },
  {
   "cell_type": "code",
   "execution_count": 16,
   "id": "dc4a3ebf-9925-4871-a812-6cafad164419",
   "metadata": {},
   "outputs": [],
   "source": [
    "# Save a map config to a file\n",
    "with open('My_config.py', 'w') as f:\n",
    "   f.write('config = {}'.format(map_3.config))\n",
    "\n",
    "# load the config\n",
    "%run My_config.py"
   ]
  },
  {
   "cell_type": "markdown",
   "id": "80bcd962-46ef-4e18-8e5b-0a66788d4ea9",
   "metadata": {},
   "source": [
    "-----------------"
   ]
  },
  {
   "cell_type": "markdown",
   "id": "f5986475-964b-406a-b2c4-c7bfe477acf2",
   "metadata": {},
   "source": [
    "## 5. Konfiguration mit Daten abgleichen"
   ]
  },
  {
   "cell_type": "markdown",
   "id": "7fd426ff-874e-42c3-a74e-d952ee173666",
   "metadata": {},
   "source": [
    "**Alle Ebenen, Filter und QuickInfos sind einem bestimmten Datensatz zugeordnet.<br>Daher müssen die Daten und die Konfiguration in der Karte übereinstimmen können.<br>Der Name des Datensatzes wird vergeben an:\n",
    "dataId von layer.config,\n",
    "dataId des Filters und bei interactionConfig -> tooltip -> fieldsToShow.**"
   ]
  },
  {
   "cell_type": "code",
   "execution_count": 15,
   "id": "b2b0ac80-6985-4c98-805f-b9bcec0dfc13",
   "metadata": {},
   "outputs": [
    {
     "data": {
      "text/plain": [
       "{'version': 'v1',\n",
       " 'config': {'visState': {'filters': [{'dataId': ['Taxi'],\n",
       "     'id': '1jx4834im',\n",
       "     'name': ['fare_amount'],\n",
       "     'type': 'range',\n",
       "     'value': [-6, 146],\n",
       "     'enlarged': False,\n",
       "     'plotType': 'histogram',\n",
       "     'animationWindow': 'free',\n",
       "     'yAxis': None,\n",
       "     'speed': 1},\n",
       "    {'dataId': ['Taxi'],\n",
       "     'id': '1lfqsnqu',\n",
       "     'name': ['pickup_datetime'],\n",
       "     'type': 'timeRange',\n",
       "     'value': [1315847121707.104, 1358439653707.1038],\n",
       "     'enlarged': False,\n",
       "     'plotType': 'lineChart',\n",
       "     'animationWindow': 'free',\n",
       "     'yAxis': {'name': 'fare_amount', 'type': 'real'},\n",
       "     'speed': 2.701}],\n",
       "   'layers': [{'id': 'ow8ct8',\n",
       "     'type': 'point',\n",
       "     'config': {'dataId': 'Taxi',\n",
       "      'label': 'pickup',\n",
       "      'color': [34, 63, 154],\n",
       "      'highlightColor': [252, 242, 26, 255],\n",
       "      'columns': {'lat': 'pickup_latitude',\n",
       "       'lng': 'pickup_longitude',\n",
       "       'altitude': None},\n",
       "      'isVisible': True,\n",
       "      'visConfig': {'radius': 10.3,\n",
       "       'fixedRadius': False,\n",
       "       'opacity': 0.8,\n",
       "       'outline': False,\n",
       "       'thickness': 2,\n",
       "       'strokeColor': None,\n",
       "       'colorRange': {'name': 'Global Warming',\n",
       "        'type': 'sequential',\n",
       "        'category': 'Uber',\n",
       "        'colors': ['#5A1846',\n",
       "         '#900C3F',\n",
       "         '#C70039',\n",
       "         '#E3611C',\n",
       "         '#F1920E',\n",
       "         '#FFC300']},\n",
       "       'strokeColorRange': {'name': 'Global Warming',\n",
       "        'type': 'sequential',\n",
       "        'category': 'Uber',\n",
       "        'colors': ['#5A1846',\n",
       "         '#900C3F',\n",
       "         '#C70039',\n",
       "         '#E3611C',\n",
       "         '#F1920E',\n",
       "         '#FFC300']},\n",
       "       'radiusRange': [0, 50],\n",
       "       'filled': True},\n",
       "      'hidden': False,\n",
       "      'textLabel': [{'field': None,\n",
       "        'color': [255, 255, 255],\n",
       "        'size': 18,\n",
       "        'offset': [0, 0],\n",
       "        'anchor': 'start',\n",
       "        'alignment': 'center'}]},\n",
       "     'visualChannels': {'colorField': {'name': 'passenger_count',\n",
       "       'type': 'integer'},\n",
       "      'colorScale': 'quantile',\n",
       "      'strokeColorField': None,\n",
       "      'strokeColorScale': 'quantile',\n",
       "      'sizeField': None,\n",
       "      'sizeScale': 'linear'}},\n",
       "    {'id': 'd93j25',\n",
       "     'type': 'point',\n",
       "     'config': {'dataId': 'Taxi',\n",
       "      'label': 'dropoff',\n",
       "      'color': [218, 112, 191],\n",
       "      'highlightColor': [252, 242, 26, 255],\n",
       "      'columns': {'lat': 'dropoff_latitude',\n",
       "       'lng': 'dropoff_longitude',\n",
       "       'altitude': None},\n",
       "      'isVisible': True,\n",
       "      'visConfig': {'radius': 10,\n",
       "       'fixedRadius': False,\n",
       "       'opacity': 0.8,\n",
       "       'outline': False,\n",
       "       'thickness': 2,\n",
       "       'strokeColor': None,\n",
       "       'colorRange': {'name': 'Uber Viz Diverging 1.5',\n",
       "        'type': 'diverging',\n",
       "        'category': 'Uber',\n",
       "        'colors': ['#00939C',\n",
       "         '#5DBABF',\n",
       "         '#BAE1E2',\n",
       "         '#F8C0AA',\n",
       "         '#DD7755',\n",
       "         '#C22E00']},\n",
       "       'strokeColorRange': {'name': 'Global Warming',\n",
       "        'type': 'sequential',\n",
       "        'category': 'Uber',\n",
       "        'colors': ['#5A1846',\n",
       "         '#900C3F',\n",
       "         '#C70039',\n",
       "         '#E3611C',\n",
       "         '#F1920E',\n",
       "         '#FFC300']},\n",
       "       'radiusRange': [0, 50],\n",
       "       'filled': True},\n",
       "      'hidden': False,\n",
       "      'textLabel': [{'field': None,\n",
       "        'color': [255, 255, 255],\n",
       "        'size': 18,\n",
       "        'offset': [0, 0],\n",
       "        'anchor': 'start',\n",
       "        'alignment': 'center'}]},\n",
       "     'visualChannels': {'colorField': {'name': 'passenger_count',\n",
       "       'type': 'integer'},\n",
       "      'colorScale': 'quantile',\n",
       "      'strokeColorField': None,\n",
       "      'strokeColorScale': 'quantile',\n",
       "      'sizeField': None,\n",
       "      'sizeScale': 'linear'}},\n",
       "    {'id': '52rt8i',\n",
       "     'type': 'arc',\n",
       "     'config': {'dataId': 'Taxi',\n",
       "      'label': 'pickup -> dropoff arc',\n",
       "      'color': [146, 38, 198],\n",
       "      'highlightColor': [252, 242, 26, 255],\n",
       "      'columns': {'lat0': 'pickup_latitude',\n",
       "       'lng0': 'pickup_longitude',\n",
       "       'lat1': 'dropoff_latitude',\n",
       "       'lng1': 'dropoff_longitude'},\n",
       "      'isVisible': False,\n",
       "      'visConfig': {'opacity': 0.8,\n",
       "       'thickness': 3.1,\n",
       "       'colorRange': {'name': 'Global Warming',\n",
       "        'type': 'sequential',\n",
       "        'category': 'Uber',\n",
       "        'colors': ['#5A1846',\n",
       "         '#900C3F',\n",
       "         '#C70039',\n",
       "         '#E3611C',\n",
       "         '#F1920E',\n",
       "         '#FFC300']},\n",
       "       'sizeRange': [0, 10],\n",
       "       'targetColor': None},\n",
       "      'hidden': False,\n",
       "      'textLabel': [{'field': None,\n",
       "        'color': [255, 255, 255],\n",
       "        'size': 18,\n",
       "        'offset': [0, 0],\n",
       "        'anchor': 'start',\n",
       "        'alignment': 'center'}]},\n",
       "     'visualChannels': {'colorField': None,\n",
       "      'colorScale': 'quantile',\n",
       "      'sizeField': None,\n",
       "      'sizeScale': 'linear'}},\n",
       "    {'id': '8c152r',\n",
       "     'type': 'line',\n",
       "     'config': {'dataId': 'Taxi',\n",
       "      'label': 'pickup -> dropoff line',\n",
       "      'color': [18, 92, 119],\n",
       "      'highlightColor': [252, 242, 26, 255],\n",
       "      'columns': {'lat0': 'pickup_latitude',\n",
       "       'lng0': 'pickup_longitude',\n",
       "       'alt0': None,\n",
       "       'lat1': 'dropoff_latitude',\n",
       "       'lng1': 'dropoff_longitude',\n",
       "       'alt1': None},\n",
       "      'isVisible': False,\n",
       "      'visConfig': {'opacity': 0.8,\n",
       "       'thickness': 1,\n",
       "       'colorRange': {'name': 'Global Warming',\n",
       "        'type': 'sequential',\n",
       "        'category': 'Uber',\n",
       "        'colors': ['#5A1846',\n",
       "         '#900C3F',\n",
       "         '#C70039',\n",
       "         '#E3611C',\n",
       "         '#F1920E',\n",
       "         '#FFC300']},\n",
       "       'sizeRange': [0, 10],\n",
       "       'targetColor': None,\n",
       "       'elevationScale': 1},\n",
       "      'hidden': False,\n",
       "      'textLabel': [{'field': None,\n",
       "        'color': [255, 255, 255],\n",
       "        'size': 18,\n",
       "        'offset': [0, 0],\n",
       "        'anchor': 'start',\n",
       "        'alignment': 'center'}]},\n",
       "     'visualChannels': {'colorField': None,\n",
       "      'colorScale': 'quantile',\n",
       "      'sizeField': None,\n",
       "      'sizeScale': 'linear'}},\n",
       "    {'id': 'df61aoc',\n",
       "     'type': 'heatmap',\n",
       "     'config': {'dataId': 'Taxi',\n",
       "      'label': 'Probe',\n",
       "      'color': [248, 149, 112],\n",
       "      'highlightColor': [252, 242, 26, 255],\n",
       "      'columns': {'lat': 'pickup_latitude', 'lng': 'pickup_longitude'},\n",
       "      'isVisible': False,\n",
       "      'visConfig': {'opacity': 0.8,\n",
       "       'colorRange': {'name': 'Global Warming',\n",
       "        'type': 'sequential',\n",
       "        'category': 'Uber',\n",
       "        'colors': ['#5A1846',\n",
       "         '#900C3F',\n",
       "         '#C70039',\n",
       "         '#E3611C',\n",
       "         '#F1920E',\n",
       "         '#FFC300']},\n",
       "       'radius': 20},\n",
       "      'hidden': False,\n",
       "      'textLabel': [{'field': None,\n",
       "        'color': [255, 255, 255],\n",
       "        'size': 18,\n",
       "        'offset': [0, 0],\n",
       "        'anchor': 'start',\n",
       "        'alignment': 'center'}]},\n",
       "     'visualChannels': {'weightField': None, 'weightScale': 'linear'}}],\n",
       "   'interactionConfig': {'tooltip': {'fieldsToShow': {'Taxi': [{'name': 'key',\n",
       "        'format': None},\n",
       "       {'name': 'fare_amount', 'format': None},\n",
       "       {'name': 'pickup_datetime', 'format': None},\n",
       "       {'name': 'passenger_count', 'format': None},\n",
       "       {'name': 'year', 'format': None}]},\n",
       "     'compareMode': False,\n",
       "     'compareType': 'absolute',\n",
       "     'enabled': True},\n",
       "    'brush': {'size': 3.8, 'enabled': False},\n",
       "    'geocoder': {'enabled': True},\n",
       "    'coordinate': {'enabled': True}},\n",
       "   'layerBlending': 'normal',\n",
       "   'splitMaps': [],\n",
       "   'animationConfig': {'currentTime': None, 'speed': 1}},\n",
       "  'mapState': {'bearing': 0,\n",
       "   'dragRotate': False,\n",
       "   'latitude': 40.63403271381665,\n",
       "   'longitude': -73.787223527756,\n",
       "   'pitch': 0,\n",
       "   'zoom': 12.267526351671801,\n",
       "   'isSplit': False},\n",
       "  'mapStyle': {'styleType': 'satellite',\n",
       "   'topLayerGroups': {},\n",
       "   'visibleLayerGroups': {},\n",
       "   'threeDBuildingColor': [3.7245996603793508,\n",
       "    6.518049405663864,\n",
       "    13.036098811327728],\n",
       "   'mapStyles': {}}}}"
      ]
     },
     "execution_count": 15,
     "metadata": {},
     "output_type": "execute_result"
    }
   ],
   "source": [
    "map_3.config"
   ]
  },
  {
   "cell_type": "markdown",
   "id": "f9d5f695-53b7-4d32-9b6c-9172f36af554",
   "metadata": {},
   "source": [
    "**<br>-Dieselbe Konfiguration kann für ein anderes Dataset mit demselben Namen und Schema verwenden werden**"
   ]
  },
  {
   "cell_type": "markdown",
   "id": "cb37cd87-999b-4466-9997-506ddd894c3b",
   "metadata": {},
   "source": [
    "------------------------"
   ]
  },
  {
   "cell_type": "markdown",
   "id": "cff62bd3-d362-4708-9855-86b2732914c1",
   "metadata": {},
   "source": [
    "## 7. Karte speichern"
   ]
  },
  {
   "cell_type": "markdown",
   "id": "ccc11a5e-4988-462b-a9f4-cfed979611fb",
   "metadata": {},
   "source": [
    "Wenn Sie in die Karte klicken und Einstellungen ändern, wird die Konfiguration im Widget-Status gespeichert. Wenn Sie das Notizbuch schließen und erneut öffnen, wird die aktuelle Karte neu geladen. Sie müssen jedoch Widget > Notebook-Widget-Status speichern manuell auswählen, bevor Sie den Kernel herunterfahren, um sicherzustellen, dass er neu geladen wird."
   ]
  },
  {
   "cell_type": "markdown",
   "id": "1fe7057c-2da2-40c1-be4b-d0270f13b783",
   "metadata": {},
   "source": [
    "Sie können Ihre aktuelle Karte auch als interaktive HTML-Datei exportieren."
   ]
  },
  {
   "cell_type": "markdown",
   "id": "618c626f-4dbc-40b2-a88b-e3c792e8bf9b",
   "metadata": {},
   "source": [
    "**- .save_to_html()** <br>\n",
    "- data: optional dictionary {\"name\": data}, falls nicht angegeben, aktuelle Kartendaten <br>\n",
    "- config: optional Map-Config-dictionary, falls nicht angegeben, die aktuelle Karten-Konfiguration <br>\n",
    "- file_name: optional der HTML-Dateiname (default = keplergl_map.html) <br>\n",
    "- read_only: optional, wenn read_only True ist, Seitenbereich ausblenden, um die Kartenkonfiguration zu deaktivieren <br>"
   ]
  },
  {
   "cell_type": "code",
   "execution_count": 16,
   "id": "d7e68add-4cfd-49eb-89d3-0b88aa87283d",
   "metadata": {},
   "outputs": [
    {
     "name": "stdout",
     "output_type": "stream",
     "text": [
      "Map saved to first_map.html!\n"
     ]
    }
   ],
   "source": [
    "#  this will save current map\n",
    "# map_3.save_to_html(file_name='first_map.html')\n",
    "\n",
    "#  this will save map with provided data and config \n",
    "map_3.save_to_html(data={'data_1': df}, config=config, file_name='first_map.html')\n",
    "\n",
    "#  this will save map with the interaction panel disabled\n",
    "# map_3.save_to_html(file_name='first_map.html', read_only=True)"
   ]
  },
  {
   "cell_type": "markdown",
   "id": "c66a06b7-e445-4ca2-8cab-3c44ab1c0625",
   "metadata": {},
   "source": [
    "--------------------------"
   ]
  }
 ],
 "metadata": {
  "kernelspec": {
   "display_name": "Python 3 (ipykernel)",
   "language": "python",
   "name": "python3"
  },
  "language_info": {
   "codemirror_mode": {
    "name": "ipython",
    "version": 3
   },
   "file_extension": ".py",
   "mimetype": "text/x-python",
   "name": "python",
   "nbconvert_exporter": "python",
   "pygments_lexer": "ipython3",
   "version": "3.9.12"
  },
  "widgets": {
   "application/vnd.jupyter.widget-state+json": {
    "state": {},
    "version_major": 2,
    "version_minor": 0
   }
  }
 },
 "nbformat": 4,
 "nbformat_minor": 5
}
